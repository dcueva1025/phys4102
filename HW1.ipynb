{
 "cells": [
  {
   "cell_type": "code",
   "execution_count": 1,
   "id": "2e4bb6c0",
   "metadata": {},
   "outputs": [],
   "source": [
    "import numpy as np"
   ]
  },
  {
   "cell_type": "markdown",
   "id": "d38f7170",
   "metadata": {},
   "source": [
    "## 1)"
   ]
  },
  {
   "cell_type": "code",
   "execution_count": 2,
   "id": "00746c45",
   "metadata": {},
   "outputs": [
    {
     "name": "stdout",
     "output_type": "stream",
     "text": [
      "Hello David!\n"
     ]
    }
   ],
   "source": [
    "print(\"Hello David!\")"
   ]
  },
  {
   "cell_type": "markdown",
   "id": "47e570f7",
   "metadata": {},
   "source": [
    "## 2a)"
   ]
  },
  {
   "cell_type": "markdown",
   "id": "c4f9310d",
   "metadata": {},
   "source": [
    "\n",
    "## Starting with Newton's Gravitational Law: \n",
    "### $F_{g} = \\frac{G M m}{r^{2}}$\n",
    "\n",
    "## An object in orbit will only experience one force which is the force of gravity, meaning the force of gravity is equal to the centripetal force:\n",
    "\n",
    "### $F_{c} = \\frac{m v^{2}}{r} \\rightarrow F_{c} = F_{g} \\rightarrow \\frac{m v^{2}}{r} = \\frac{G M m}{r^{2}}$\n",
    "\n",
    "## From this equation, solving for r and simplifiying gives the following:\n",
    "\n",
    "### $r = \\frac{G M}{v^{2}}$\n",
    "\n",
    "## To ensure the answer is not in terms of velocity, the velocity squared can be subsituted using period by the following stream of logic:\n",
    "### $T = \\frac{2 \\pi r}{v} \\rightarrow v = \\frac{2 \\pi r}{T} \\rightarrow r = \\frac{G M T^{2}}{4 \\pi^{2} r^{2}}$\n",
    "\n",
    "## The r's can be combined to simplify the equation as follows:\n",
    "\n",
    "### $r^{3} = \\frac{G M T^{2}}{4 \\pi^{2}}$\n",
    "\n",
    "## Since the radius of Earth is R, and the radius of orbit from the center of the Earth is r, the height of the orbiting object from the surface of the Earth will be the difference of r and R:\n",
    "\n",
    "### $h = r  - R \\rightarrow r = h + R$\n",
    "\n",
    "## Substituting this into the equation:\n",
    "\n",
    "### $(h + R)^{3} = \\frac{G M T^{2}}{4 \\pi^{2}}$\n",
    "\n",
    "## Taking everything to the root of 3, the equation is as follows:\n",
    "\n",
    "### $h + R = (\\frac{G M T^{2}}{4 \\pi^{2}})^{\\frac{1}{3}}$\n",
    "\n",
    "## Rearranging the equation gives the final answer:\n",
    "\n",
    "### $h = (\\frac{G M T^{2}}{4 \\pi^{2}})^{\\frac{1}{3}} - R$\n",
    "\n"
   ]
  },
  {
   "cell_type": "markdown",
   "id": "0db148b1",
   "metadata": {},
   "source": [
    "## 2b)"
   ]
  },
  {
   "cell_type": "code",
   "execution_count": 3,
   "id": "8f0def4a",
   "metadata": {},
   "outputs": [
    {
     "name": "stdout",
     "output_type": "stream",
     "text": [
      "Enter a value for T in minutes: 92.68\n",
      "An object orbiting Earth with a period of 92.68 minutes, orbit at an altitude of 410.696 km.\n"
     ]
    }
   ],
   "source": [
    "# Constants:\n",
    "G_Newton = 6.67e-11 # Newton's Gravitational Constant in units m^3/(kg * s^2)\n",
    "M_Earth = 5.97e24  # Mass of Earth in kilograms\n",
    "R_Earth = 6371e3   # Radius of Earth in meters\n",
    "\n",
    "# The following line asks the user to input a value for the period (T) of an object orbiting Earth:\n",
    "T_min = float( input(\"Enter a value for T in minutes: \") ) \n",
    "\n",
    "# The following line converts the user's inputs from minutes to seconds so it can be used in calculations with G:\n",
    "T_sec = T_min * 60              \n",
    "\n",
    "# The following line performs the calculation of altitude of an Earth orbiting object based on its period and constants:\n",
    "h_m = (G_Newton*M_Earth*T_sec**2/(4*np.pi**2))**(1/3) - R_Earth\n",
    "\n",
    "h_km = h_m / 1000  # Convert result to km\n",
    "print(\"An object orbiting Earth with a period of\",T_min,\"minutes, orbit at an altitude of\",round(h_km,3),\"km.\") # Print result"
   ]
  },
  {
   "cell_type": "markdown",
   "id": "0eeb6ec8",
   "metadata": {},
   "source": [
    "## 2c)"
   ]
  },
  {
   "cell_type": "code",
   "execution_count": 4,
   "id": "446865c3",
   "metadata": {},
   "outputs": [
    {
     "name": "stdout",
     "output_type": "stream",
     "text": [
      "An object is in Geosynchronous orbit when it orbits at the same spin rate as the Earth, so it takes 23 hours and 56 minutes to complete an orbit.\n",
      "In minutes this is 1436 minutes, so an object must orbit Earth at an altitude of 35777.676 km to be in Geosynchronous orbit.\n"
     ]
    }
   ],
   "source": [
    "# The following user-defined function allows for the user to find the altitude of an orbit around any object, given mass & radius of the object, as well as period of orbit\n",
    "def Altitude_of_Orbit(M_Object, R_Object, T_min):\n",
    "    G_Newton = 6.67e-11 # Newton's Gravitational Constant is the same for any object\n",
    "    T_sec = T_min * 60\n",
    "    h_km = ((G_Newton*M_Object*T_sec**2/(4*np.pi**2))**(1/3) - R_Object) / 1000\n",
    "    return round(h_km,3)\n",
    "\n",
    "# Geosynchronous Orbit is 23 hours, 56 minutes, and 4 seconds, in seconds this is 86164 seconds.\n",
    "T_Geo_min = 1436\n",
    "\n",
    "# Print out the altitude of Geosynchronous orbit around Earth\n",
    "print(\"An object is in Geosynchronous orbit when it orbits at the same spin rate as the Earth, so it takes 23 hours and 56 minutes to complete an orbit.\")\n",
    "print(\"In minutes this is 1436 minutes, so an object must orbit Earth at an altitude of\",Altitude_of_Orbit(M_Earth, R_Earth, T_Geo_min),\"km to be in Geosynchronous orbit.\")"
   ]
  },
  {
   "cell_type": "markdown",
   "id": "9f0e15ac",
   "metadata": {},
   "source": [
    "## 2d)"
   ]
  },
  {
   "cell_type": "code",
   "execution_count": 5,
   "id": "b6d2a644",
   "metadata": {},
   "outputs": [
    {
     "name": "stdout",
     "output_type": "stream",
     "text": [
      "An orbital period of 90 minutes results in an orbit of 279.322 km altitude.\n",
      "\n",
      "An orbital period of 89 minutes results in an orbit of 229.968 km altitude.\n",
      "\n",
      "An orbital period of 88 minutes results in an orbit of 180.43 km altitude.\n",
      "\n",
      "An orbital period of 87 minutes results in an orbit of 130.703 km altitude.\n",
      "\n",
      "An orbital period of 86 minutes results in an orbit of 80.786 km altitude.\n",
      "\n",
      "An orbital period of 85 minutes results in an orbit of 30.675 km altitude.\n",
      "\n",
      "An orbit of 84 minutes returns a negative altitude which is not possible. Result -19.634 km altitude.\n",
      "\n",
      "An orbit of 83 minutes returns a negative altitude which is not possible. Result -70.142 km altitude.\n",
      "\n",
      "An orbit of 82 minutes returns a negative altitude which is not possible. Result -120.853 km altitude.\n",
      "\n",
      "An orbit of 81 minutes returns a negative altitude which is not possible. Result -171.771 km altitude.\n",
      "\n",
      "An orbit of 80 minutes returns a negative altitude which is not possible. Result -222.899 km altitude.\n",
      "\n"
     ]
    }
   ],
   "source": [
    "# This is the starting period that the altitude will be calculated for\n",
    "T = 90 # Period in minutes\n",
    "\n",
    "# This while loop will run until T is less than 80\n",
    "while T >= 80:\n",
    "    # The purpose of this if loop is to calculate the altitude or orbit based on the orbital period, then output a different sentence depending on whether the calculated altidude is less than or greater than 0.\n",
    "    if Altitude_of_Orbit(M_Earth, R_Earth, T) > 0: \n",
    "        print(\"An orbital period of\",T,\"minutes results in an orbit of\",Altitude_of_Orbit(M_Earth, R_Earth, T),\"km altitude.\")\n",
    "    else:\n",
    "        print(\"An orbit of\",T,\"minutes returns a negative altitude which is not possible. Result\",Altitude_of_Orbit(M_Earth, R_Earth, T),\"km altitude.\")\n",
    "    print()\n",
    "    T -= 1 # This line subtracts T by 1 every iteration to calculate the altitude for the next T value"
   ]
  },
  {
   "cell_type": "markdown",
   "id": "88f95c72",
   "metadata": {},
   "source": [
    "### Based on the calculated orbital altitudes from period values decreasing in intervals of 1 minute, the minimum orbital altitude appears to be 85 minutes."
   ]
  },
  {
   "cell_type": "markdown",
   "id": "582f550f",
   "metadata": {},
   "source": [
    "## 3a)"
   ]
  },
  {
   "cell_type": "code",
   "execution_count": 6,
   "id": "a2fa3a01",
   "metadata": {},
   "outputs": [
    {
     "name": "stdout",
     "output_type": "stream",
     "text": [
      "(1.0, 1.5708)\n"
     ]
    }
   ],
   "source": [
    "# The following function converts the input cartesian coordinates (x,y), into polar coordinates (r, phi)\n",
    "def Cartesian_to_Polar_Coords(x,y):\n",
    "    r = np.sqrt(x**2 + y**2) # This line calculates the radius based on x and y coords\n",
    "    phi_radians = np.arccos(x / r) # This line calculates the polar angle based on x and y coords\n",
    "    #phi_degrees = phi_radians * (360/(2*np.pi))\n",
    "    r_rounded = round(r, 4) # This line rounds the calculated radius to the fourth decimal place\n",
    "    phi_rounded = round(phi_radians, 4) # This line rounds the calculated polar angle to the fourth decimal place\n",
    "    return r_rounded, phi_rounded # Return the calculated and rounded values of radius and polar angle\n",
    "\n",
    "print(Cartesian_to_Polar_Coords(0,1))"
   ]
  },
  {
   "cell_type": "markdown",
   "id": "6d983c78",
   "metadata": {},
   "source": [
    "## 3b)"
   ]
  },
  {
   "cell_type": "markdown",
   "id": "f4863e3b",
   "metadata": {},
   "source": [
    "## 4a)"
   ]
  },
  {
   "cell_type": "code",
   "execution_count": 7,
   "id": "8e29db12",
   "metadata": {},
   "outputs": [
    {
     "name": "stdout",
     "output_type": "stream",
     "text": [
      "The binding energy of an isotope with A = 58 and Z = 28 is approximately: 498.0 MeV.\n"
     ]
    }
   ],
   "source": [
    "def Binding_Energy0(A,Z):\n",
    "    # Constants\n",
    "    a1 = 15.8\n",
    "    a2 = 18.3\n",
    "    a3 = 0.714\n",
    "    a4 = 23.2\n",
    "    \n",
    "    if A%2 == 1:\n",
    "        a5 = 0.0\n",
    "    elif A%2 == 0:\n",
    "        if Z%2 == 0:\n",
    "            a5 = 12.0\n",
    "        else:\n",
    "            a5 = -12.0\n",
    "\n",
    "    E_bind = (a1*A) - (a2*A**(2/3)) - (a3*(Z**2/A**(1/3))) - (a4*(A-2*Z)**2/A) + a5/A**(1/2)\n",
    "    \n",
    "    return E_bind\n",
    "\n",
    "print(\"The binding energy of an isotope with A = 58 and Z = 28 is approximately:\",round(Binding_Energy0(58,28),0),\"MeV.\")"
   ]
  },
  {
   "cell_type": "code",
   "execution_count": 8,
   "id": "58d460b8",
   "metadata": {},
   "outputs": [
    {
     "ename": "IndentationError",
     "evalue": "expected an indented block (1488990965.py, line 22)",
     "output_type": "error",
     "traceback": [
      "\u001b[1;36m  File \u001b[1;32m\"C:\\Users\\cueva\\AppData\\Local\\Temp\\ipykernel_24060\\1488990965.py\"\u001b[1;36m, line \u001b[1;32m22\u001b[0m\n\u001b[1;33m    \u001b[0m\n\u001b[1;37m    ^\u001b[0m\n\u001b[1;31mIndentationError\u001b[0m\u001b[1;31m:\u001b[0m expected an indented block\n"
     ]
    }
   ],
   "source": [
    "def Binding_Energy1(A,Z):\n",
    "    # Constants\n",
    "    a1 = 15.8\n",
    "    a2 = 18.3\n",
    "    a3 = 0.714\n",
    "    a4 = 23.2\n",
    "    \n",
    "    if A%2 > 0:\n",
    "        a5 = 0.0\n",
    "    elif (A%2 == 0 and Z%2 == 0):\n",
    "            a5 = 12.0 \n",
    "    else:\n",
    "            a5 = -12.0\n",
    "\n",
    "    E_bind = (a1*A) - (a2*A**(2/3)) - (a3*(Z**2/A**(1/3))) - (a4*(A-2*Z)**2/A) + a5/A**(1/2)\n",
    "    \n",
    "    E_perA = E_bind / A\n",
    "    \n",
    "    return E_perA, E_bind\n",
    "\n",
    "for A in np.arange(Z,3*Z+1):\n",
    "    "
   ]
  }
 ],
 "metadata": {
  "kernelspec": {
   "display_name": "Python 3 (ipykernel)",
   "language": "python",
   "name": "python3"
  },
  "language_info": {
   "codemirror_mode": {
    "name": "ipython",
    "version": 3
   },
   "file_extension": ".py",
   "mimetype": "text/x-python",
   "name": "python",
   "nbconvert_exporter": "python",
   "pygments_lexer": "ipython3",
   "version": "3.9.13"
  }
 },
 "nbformat": 4,
 "nbformat_minor": 5
}
