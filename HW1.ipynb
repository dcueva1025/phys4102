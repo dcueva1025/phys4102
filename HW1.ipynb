{
 "cells": [
  {
   "cell_type": "code",
   "execution_count": 1,
   "id": "2e4bb6c0",
   "metadata": {},
   "outputs": [],
   "source": [
    "import numpy as np"
   ]
  },
  {
   "cell_type": "markdown",
   "id": "d38f7170",
   "metadata": {},
   "source": [
    "## 1)"
   ]
  },
  {
   "cell_type": "code",
   "execution_count": 2,
   "id": "00746c45",
   "metadata": {},
   "outputs": [
    {
     "name": "stdout",
     "output_type": "stream",
     "text": [
      "Hello David!\n"
     ]
    }
   ],
   "source": [
    "print(\"Hello David!\")"
   ]
  },
  {
   "cell_type": "markdown",
   "id": "47e570f7",
   "metadata": {},
   "source": [
    "## 2a)"
   ]
  },
  {
   "cell_type": "markdown",
   "id": "c4f9310d",
   "metadata": {},
   "source": [
    "\n",
    "## Starting with Newton's Gravitational Law: \n",
    "### $F_{g} = \\frac{G M m}{r^{2}}$\n",
    "\n",
    "## An object in orbit will only experience one force which is the force of gravity, meaning the force of gravity is equal to the centripetal force:\n",
    "\n",
    "### $F_{c} = \\frac{m v^{2}}{r} \\rightarrow F_{c} = F_{g} \\rightarrow \\frac{m v^{2}}{r} = \\frac{G M m}{r^{2}}$\n",
    "\n",
    "## From this equation, solving for r and simplifiying gives the following:\n",
    "\n",
    "### $r = \\frac{G M}{v^{2}}$\n",
    "\n",
    "## To ensure the answer is not in terms of velocity, the velocity squared can be subsituted using period by the following stream of logic:\n",
    "### $T = \\frac{2 \\pi r}{v} \\rightarrow v = \\frac{2 \\pi r}{T} \\rightarrow r = \\frac{G M T^{2}}{4 \\pi^{2} r^{2}}$\n",
    "\n",
    "## The r's can be combined to simplify the equation as follows:\n",
    "\n",
    "### $r^{3} = \\frac{G M T^{2}}{4 \\pi^{2}}$\n",
    "\n",
    "## Since the radius of Earth is R, and the radius of orbit from the center of the Earth is r, the height of the orbiting object from the surface of the Earth will be the difference of r and R:\n",
    "\n",
    "### $h = r  - R \\rightarrow r = h + R$\n",
    "\n",
    "## Substituting this into the equation:\n",
    "\n",
    "### $(h + R)^{3} = \\frac{G M T^{2}}{4 \\pi^{2}}$\n",
    "\n",
    "## Taking everything to the root of 3, the equation is as follows:\n",
    "\n",
    "### $h + R = (\\frac{G M T^{2}}{4 \\pi^{2}})^{\\frac{1}{3}}$\n",
    "\n",
    "## Rearranging the equation gives the final answer:\n",
    "\n",
    "### $h = (\\frac{G M T^{2}}{4 \\pi^{2}})^{\\frac{1}{3}} - R$\n",
    "\n"
   ]
  },
  {
   "cell_type": "markdown",
   "id": "0db148b1",
   "metadata": {},
   "source": [
    "## 2b)"
   ]
  },
  {
   "cell_type": "code",
   "execution_count": 3,
   "id": "8f0def4a",
   "metadata": {},
   "outputs": [
    {
     "name": "stdout",
     "output_type": "stream",
     "text": [
      "Enter a value for T in minutes: 92.68\n",
      "An object orbiting Earth with a period of 92.68 minutes, orbit at an altitude of 410.696 km.\n"
     ]
    }
   ],
   "source": [
    "# Constants:\n",
    "G_Newton = 6.67e-11 # Newton's Gravitational Constant in units m^3/(kg * s^2)\n",
    "M_Earth = 5.97e24  # Mass of Earth in kilograms\n",
    "R_Earth = 6371e3   # Radius of Earth in meters\n",
    "\n",
    "# The following line asks the user to input a value for the period (T) of an object orbiting Earth:\n",
    "orbital_period_min = float( input(\"Enter a value for T in minutes: \") ) \n",
    "\n",
    "# The following line converts the user's inputs from minutes to seconds so it can be used in calculations with G:\n",
    "orbital_period_sec = orbital_period_min * 60              \n",
    "\n",
    "# The following line performs the calculation of altitude of an Earth orbiting object based on its period and constants:\n",
    "orbital_height_meter = (G_Newton*M_Earth*orbital_period_sec**2/(4*np.pi**2))**(1/3) - R_Earth\n",
    "\n",
    "# Convert result to km\n",
    "orbital_height_kilometer = orbital_height_meter / 1000\n",
    "\n",
    "# Print out the result\n",
    "print(\"An object orbiting Earth with a period of\",orbital_period_min,\"minutes, orbit at an altitude of\"\n",
    "      ,round(orbital_height_kilometer,3),\"km.\") # Print result"
   ]
  },
  {
   "cell_type": "markdown",
   "id": "0eeb6ec8",
   "metadata": {},
   "source": [
    "## 2c)"
   ]
  },
  {
   "cell_type": "code",
   "execution_count": 43,
   "id": "446865c3",
   "metadata": {},
   "outputs": [
    {
     "name": "stdout",
     "output_type": "stream",
     "text": [
      "An object is in Geosynchronous orbit when it orbits at the same spin rate as the Earth so it takes 23 hours and 56 minutes to  complete an orbit.\n",
      "In minutes this is 1436 minutes, so an object must orbit Earth at an altitude of 35777.676 km to be in Geosynchronous orbit.\n"
     ]
    }
   ],
   "source": [
    "# The following user-defined function allows for the user to find the altitude of an orbit around any object, \n",
    "# given mass & radius of the object, as well as period of orbit.\n",
    "\n",
    "def Altitude_of_Orbit(M_Object, R_Object, orbital_period_min):\n",
    "    G_Newton = 6.67e-11 # Newton's Gravitational Constant is the same for any object\n",
    "    orbital_period_sec = orbital_period_min * 60 # Converts minutes to seconds\n",
    "    orbital_altitude_km = ((G_Newton*M_Object*orbital_period_sec**2/(4*np.pi**2))**(1/3) - R_Object) / 1000 # calculating altitude in kilometers\n",
    "    return orbital_altitude_km\n",
    "\n",
    "# Geosynchronous Orbit is 23 hours, 56 minutes, and 4 seconds, in minutes this is 1436 minutes.\n",
    "geo_oribital_period_min = 1436\n",
    "\n",
    "# Print out the altitude of Geosynchronous orbit around Earth\n",
    "print(\"An object is in Geosynchronous orbit when it orbits at the same spin rate as the Earth\" \n",
    "      ,\"so it takes 23 hours and 56 minutes to  complete an orbit.\")\n",
    "print(\"In minutes this is 1436 minutes, so an object must orbit Earth at an altitude of\"\n",
    "      ,round(Altitude_of_Orbit(M_Earth, R_Earth, geo_oribital_period_min),3),\"km to be in Geosynchronous orbit.\")"
   ]
  },
  {
   "cell_type": "markdown",
   "id": "9f0e15ac",
   "metadata": {},
   "source": [
    "## 2d)"
   ]
  },
  {
   "cell_type": "code",
   "execution_count": 46,
   "id": "b6d2a644",
   "metadata": {},
   "outputs": [
    {
     "name": "stdout",
     "output_type": "stream",
     "text": [
      "An orbital period of 79 minutes results in an orbit of 279.322 km altitude.\n",
      "\n",
      "An orbital period of 79 minutes results in an orbit of 229.968 km altitude.\n",
      "\n",
      "An orbital period of 79 minutes results in an orbit of 180.43 km altitude.\n",
      "\n",
      "An orbital period of 79 minutes results in an orbit of 130.703 km altitude.\n",
      "\n",
      "An orbital period of 79 minutes results in an orbit of 80.786 km altitude.\n",
      "\n",
      "An orbital period of 79 minutes results in an orbit of 30.675 km altitude.\n",
      "\n",
      "An orbit of 79 minutes returns a negative altitude which is not possible. Result -19.634 km altitude.\n",
      "\n",
      "An orbit of 79 minutes returns a negative altitude which is not possible. Result -70.142 km altitude.\n",
      "\n",
      "An orbit of 79 minutes returns a negative altitude which is not possible. Result -120.853 km altitude.\n",
      "\n",
      "An orbit of 79 minutes returns a negative altitude which is not possible. Result -171.771 km altitude.\n",
      "\n",
      "An orbit of 79 minutes returns a negative altitude which is not possible. Result -222.899 km altitude.\n",
      "\n"
     ]
    }
   ],
   "source": [
    "# This is the starting period that the altitude will be calculated for\n",
    "orbital_period = 90 # Period in minutes\n",
    "\n",
    "# This while loop will run until T is less than 80\n",
    "while orbital_period >= 80:\n",
    "    # The purpose of this if loop is to calculate the altitude or orbit based on the orbital period, \n",
    "    # then output a different sentence depending on whether the calculated altidude is less than or greater than 0\n",
    "    if Altitude_of_Orbit(M_Earth, R_Earth, orbital_period) > 0: \n",
    "        print(\"An orbital period of\",T,\"minutes results in an orbit of\"\n",
    "              ,round(Altitude_of_Orbit(M_Earth, R_Earth, orbital_period),3),\"km altitude.\")\n",
    "    else:\n",
    "        print(\"An orbit of\",T,\"minutes returns a negative altitude which is not possible. Result\"\n",
    "              ,round(Altitude_of_Orbit(M_Earth, R_Earth, orbital_period),3),\"km altitude.\")\n",
    "    print() # This line makes a space between the previously printed line and the next\n",
    "    orbital_period -= 1 # This line subtracts T by 1 every iteration to calculate the altitude for the next T value"
   ]
  },
  {
   "cell_type": "markdown",
   "id": "88f95c72",
   "metadata": {},
   "source": [
    "### Based on the calculated orbital altitudes from period values decreasing in intervals of 1 minute, the minimum orbital altitude appears to be 85 minutes."
   ]
  },
  {
   "cell_type": "markdown",
   "id": "582f550f",
   "metadata": {},
   "source": [
    "## 3a)"
   ]
  },
  {
   "cell_type": "code",
   "execution_count": 47,
   "id": "a2fa3a01",
   "metadata": {},
   "outputs": [
    {
     "name": "stdout",
     "output_type": "stream",
     "text": [
      "Given the xy-coordinates (5,-8) in meters, they can be converted to the polar coordinates radius = 9.43 meters and phi = 302.01 degrees.\n"
     ]
    }
   ],
   "source": [
    "# The following function converts cartesian coordinates (x,y), into polar coordinates (r, phi)\n",
    "def Cartesian_to_Polar_Coords(x_cartesian, y_cartesian):\n",
    "    \n",
    "    # This line calculates the radius based on x and y coords\n",
    "    radius = np.sqrt(x_cartesian**2 + y_cartesian**2)\n",
    "    \n",
    "    phi_degrees = 0\n",
    "    \n",
    "    # This if statement sets the conditions \n",
    "    if (x_cartesian == 0 and y_cartesian == 0):\n",
    "        print(\"Undefined\")\n",
    "   \n",
    "    # The following four conditions are necessary to give results for the angle on the four axes\n",
    "    # while avoiding divide by zero errors\n",
    "    elif (x_cartesian == 0 and y_cartesian == 1): \n",
    "        phi_degrees = 90.\n",
    "    elif (x_cartesian == -1 and y_cartesian == 0):\n",
    "        phi_degrees = 180.\n",
    "    elif (x_cartesian == 0 and y_cartesian == -1):\n",
    "        phi_degrees = 270.\n",
    "    elif (x_cartesian == 1 and y_cartesian == 0):\n",
    "        phi_degrees = 0.\n",
    "    \n",
    "    # The following four conditions allow for the proper angle to be given for each of the four axes\n",
    "    # The calculation of the angle is done using arctan\n",
    "    elif (x_cartesian > 0 and y_cartesian > 0):\n",
    "        phi_radians = np.arctan(y_cartesian / x_cartesian)\n",
    "        phi_degrees = phi_radians * (180/np.pi)\n",
    "    elif (x_cartesian < 0 and y_cartesian > 0):\n",
    "        phi_radians = np.arctan(y_cartesian / x_cartesian) + np.pi\n",
    "        phi_degrees = phi_radians * (180/np.pi)\n",
    "    elif (x_cartesian < 0 and y_cartesian < 0):\n",
    "        phi_radians = np.arctan(y_cartesian / x_cartesian) + np.pi\n",
    "        phi_degrees = phi_radians * (180/np.pi)\n",
    "    elif (x_cartesian > 0 and y_cartesian < 0):\n",
    "        phi_radians = np.arctan(y_cartesian / x_cartesian) + 2*np.pi\n",
    "        phi_degrees = phi_radians * (180/np.pi)\n",
    "\n",
    "    # Return the calculated and rounded values of radius and polar angle \n",
    "    return radius, phi_degrees\n",
    "\n",
    "print(\"Given the xy-coordinates (5,-8) in meters, they can be converted to the polar coordinates radius =\"\n",
    "      ,round(Cartesian_to_Polar_Coords(5,-8)[0],2),\"meters and phi =\",round(Cartesian_to_Polar_Coords(5,-8)[1],2),\"degrees.\")"
   ]
  },
  {
   "cell_type": "markdown",
   "id": "6d983c78",
   "metadata": {},
   "source": [
    "## 3b)"
   ]
  },
  {
   "cell_type": "code",
   "execution_count": 16,
   "id": "5f33114e",
   "metadata": {},
   "outputs": [
    {
     "name": "stdout",
     "output_type": "stream",
     "text": [
      "Given the polar coordinates (10,238) in meters and degrees,they can be converted to the cartesian coordinates x = -5.299 meters and y = -8.48 meters.\n"
     ]
    }
   ],
   "source": [
    "# The following function converts polar coordinates (x,y), into cartesian coordinates (r, phi)\n",
    "def Polar_to_Cartesian_Coords(radius, phi_degrees):\n",
    "    \n",
    "    phi_radians = phi_degrees * (np.pi/180)\n",
    "    \n",
    "    # Convert to xy-coordinates\n",
    "    x_cartesian = radius * np.cos(phi_radians)\n",
    "    y_cartesian = radius * np.sin(phi_radians)\n",
    "    \n",
    "    return x_cartesian, y_cartesian\n",
    "\n",
    "print(\"Given the polar coordinates (10,238) in meters and degrees,they can be converted to the cartesian coordinates x =\"\n",
    "      ,round(Polar_to_Cartesian_Coords(10,238)[0],3),\"meters and y =\",round(Polar_to_Cartesian_Coords(10,238)[1],3),\"meters.\")"
   ]
  },
  {
   "cell_type": "markdown",
   "id": "02653728",
   "metadata": {},
   "source": [
    "## 4a)\n",
    "\n",
    "### The give equation for s can be simplified by seeing that the components of momentum are equal to the momentum vector squared.\n",
    "\n",
    "### $ s = (\\frac{E}{c})^{2} - p_{x}^{2} - p_{y}^{2} - p_{z}^{2} $\n",
    "\n",
    "### $ s = (\\frac{E}{c})^{2} - (p_{x}^{2} + p_{y}^{2} + p_{z}^{2}) $\n",
    "\n",
    "### $ s = (\\frac{E}{c})^{2} - \\vec{p}^{2} $\n",
    "\n",
    "### Now squaring this equation gives the following:\n",
    "\n",
    "### $ \\sqrt{s} = \\sqrt{(\\frac{E}{c})^{2} - \\vec{p}^{2}} $\n",
    "\n",
    "### The right side of the equation looks similar to the Energy-Momentum Relation:\n",
    "\n",
    "### $ E^{2} = m^{2} c^{4} + p^{2} c^{2} $\n",
    "\n",
    "### Solving this for mc can be done as follows:\n",
    "\n",
    "### $ m^{2} c^{4} = E^{2} - p^{2} c^{2} $\n",
    "\n",
    "### $ m^{2} c^{2} = \\frac{E^{2}}{c^{2}} - p^{2} $\n",
    "\n",
    "### $ m c = \\sqrt{(\\frac{E}{c})^{2} - \\vec{p}^{2}} $\n",
    "\n",
    "### This is the same result as solving for the square root of s from the given equation, showing that:\n",
    "\n",
    "### $ \\sqrt{s} = mc $"
   ]
  },
  {
   "cell_type": "markdown",
   "id": "3573dffc",
   "metadata": {},
   "source": [
    "## 4b)"
   ]
  },
  {
   "cell_type": "code",
   "execution_count": 8,
   "id": "eb73acfc",
   "metadata": {},
   "outputs": [
    {
     "name": "stdout",
     "output_type": "stream",
     "text": [
      "nan\n",
      "nan\n"
     ]
    },
    {
     "name": "stderr",
     "output_type": "stream",
     "text": [
      "C:\\Users\\cueva\\AppData\\Local\\Temp\\ipykernel_14220\\1336449585.py:8: RuntimeWarning: invalid value encountered in sqrt\n",
      "  mass_times_speed_of_light = np.sqrt((inputs[0]**2/speed_of_light) - inputs[1]**2 - inputs[2]**2 - inputs[3]**2)\n"
     ]
    }
   ],
   "source": [
    "#\n",
    "\n",
    "speed_of_light = 3e8 # Approxomated Speed of Light in meters/second\n",
    "\n",
    "# This function calculates the \n",
    "def Mass_Times_Speed_of_Light(inputs = []):\n",
    "    \n",
    "    mass_times_speed_of_light = np.sqrt((inputs[0]**2/speed_of_light) - inputs[1]**2 - inputs[2]**2 - inputs[3]**2)\n",
    "    \n",
    "    return mass_times_speed_of_light\n",
    "\n",
    "test = Mass_Times_Speed_of_Light([1e9,1e9,0,0])\n",
    "print(test)\n",
    "mass = test/speed_of_light\n",
    "print(mass)"
   ]
  },
  {
   "cell_type": "markdown",
   "id": "c19e10e0",
   "metadata": {},
   "source": [
    "## 4c)"
   ]
  },
  {
   "cell_type": "markdown",
   "id": "088861a3",
   "metadata": {},
   "source": [
    "## 4d)"
   ]
  },
  {
   "cell_type": "code",
   "execution_count": null,
   "id": "4ae8552f",
   "metadata": {},
   "outputs": [],
   "source": []
  },
  {
   "cell_type": "markdown",
   "id": "f4863e3b",
   "metadata": {},
   "source": [
    "## 5a)"
   ]
  },
  {
   "cell_type": "code",
   "execution_count": 9,
   "id": "8e29db12",
   "metadata": {},
   "outputs": [
    {
     "name": "stdout",
     "output_type": "stream",
     "text": [
      "The binding energy of an isotope with A = 58 and Z = 28 is approximately: 497.562 MeV.\n"
     ]
    }
   ],
   "source": [
    "# This function will calculate the binding energy of isotopes, based on the atomic number (Z) and atomic mass number (A)\n",
    "# This function will also calculate the binding energy per nucleon\n",
    "\n",
    "def Binding_Energy(atomic_mass_number,atomic_number):\n",
    "    # Constants\n",
    "    a1 = 15.8\n",
    "    a2 = 18.3\n",
    "    a3 = 0.714\n",
    "    a4 = 23.2\n",
    "    \n",
    "    # This if loop uses modulo to check if the values of atomic mass number and atomic number are even or odd to determine the value of a5\n",
    "    if atomic_mass_number%2 == 1:\n",
    "        a5 = 0.0\n",
    "    elif atomic_mass_number%2 == 0:\n",
    "        if atomic_number%2 == 0:\n",
    "            a5 = 12.0\n",
    "        else:\n",
    "            a5 = -12.0\n",
    "\n",
    "    # Calculating binding energy using the semi-empirical mass formula\n",
    "    binding_energy = (a1*atomic_mass_number) - (a2*atomic_mass_number**(2/3)) - (a3*(atomic_number**2/atomic_mass_number**(1/3))) - (a4*(atomic_mass_number-2*atomic_number)**2/atomic_mass_number) + a5/atomic_mass_number**(1/2)\n",
    "    \n",
    "    # Calculating binding energy per nucleon\n",
    "    binding_energy_per_nucleon = binding_energy / atomic_mass_number\n",
    "    \n",
    "    # The function returns the binding energy and binding energy per nucleon\n",
    "    return binding_energy, binding_energy_per_nucleon\n",
    "\n",
    "# Printing out the results\n",
    "print(\"The binding energy of an isotope with A = 58 and Z = 28 is approximately:\",round(Binding_Energy(58,28)[0],3),\"MeV.\")"
   ]
  },
  {
   "cell_type": "markdown",
   "id": "4df82f38",
   "metadata": {},
   "source": [
    "## 5b)"
   ]
  },
  {
   "cell_type": "code",
   "execution_count": 10,
   "id": "58d460b8",
   "metadata": {
    "scrolled": true
   },
   "outputs": [
    {
     "name": "stdout",
     "output_type": "stream",
     "text": [
      "The binding energy of an isotope for A = 28 and Z = 28 is -558.018 Mev\n",
      "The binding energy per A of an isotope for A = 28 and Z = 28 is -19.929 Mev\n",
      "\n",
      "The binding energy of an isotope for A = 29 and Z = 28 is -479.936 Mev\n",
      "The binding energy per A of an isotope for A = 29 and Z = 28 is -16.55 Mev\n",
      "\n",
      "The binding energy of an isotope for A = 30 and Z = 28 is -403.42 Mev\n",
      "The binding energy per A of an isotope for A = 30 and Z = 28 is -13.447 Mev\n",
      "\n",
      "The binding energy of an isotope for A = 31 and Z = 28 is -336.726 Mev\n",
      "The binding energy per A of an isotope for A = 31 and Z = 28 is -10.862 Mev\n",
      "\n",
      "The binding energy of an isotope for A = 32 and Z = 28 is -270.65 Mev\n",
      "The binding energy per A of an isotope for A = 32 and Z = 28 is -8.458 Mev\n",
      "\n",
      "The binding energy of an isotope for A = 33 and Z = 28 is -213.298 Mev\n",
      "The binding energy per A of an isotope for A = 33 and Z = 28 is -6.464 Mev\n",
      "\n",
      "The binding energy of an isotope for A = 34 and Z = 28 is -155.852 Mev\n",
      "The binding energy per A of an isotope for A = 34 and Z = 28 is -4.584 Mev\n",
      "\n",
      "The binding energy of an isotope for A = 35 and Z = 28 is -106.257 Mev\n",
      "The binding energy per A of an isotope for A = 35 and Z = 28 is -3.036 Mev\n",
      "\n",
      "The binding energy of an isotope for A = 36 and Z = 28 is -56.028 Mev\n",
      "The binding energy per A of an isotope for A = 36 and Z = 28 is -1.556 Mev\n",
      "\n",
      "The binding energy of an isotope for A = 37 and Z = 28 is -12.943 Mev\n",
      "The binding energy per A of an isotope for A = 37 and Z = 28 is -0.35 Mev\n",
      "\n",
      "The binding energy of an isotope for A = 38 and Z = 28 is 31.191 Mev\n",
      "The binding energy per A of an isotope for A = 38 and Z = 28 is 0.821 Mev\n",
      "\n",
      "The binding energy of an isotope for A = 39 and Z = 28 is 68.76 Mev\n",
      "The binding energy per A of an isotope for A = 39 and Z = 28 is 1.763 Mev\n",
      "\n",
      "The binding energy of an isotope for A = 40 and Z = 28 is 107.7 Mev\n",
      "The binding energy per A of an isotope for A = 40 and Z = 28 is 2.692 Mev\n",
      "\n",
      "The binding energy of an isotope for A = 41 and Z = 28 is 140.554 Mev\n",
      "The binding energy per A of an isotope for A = 41 and Z = 28 is 3.428 Mev\n",
      "\n",
      "The binding energy of an isotope for A = 42 and Z = 28 is 175.031 Mev\n",
      "The binding energy per A of an isotope for A = 42 and Z = 28 is 4.167 Mev\n",
      "\n",
      "The binding energy of an isotope for A = 43 and Z = 28 is 203.827 Mev\n",
      "The binding energy per A of an isotope for A = 43 and Z = 28 is 4.74 Mev\n",
      "\n",
      "The binding energy of an isotope for A = 44 and Z = 28 is 234.441 Mev\n",
      "The binding energy per A of an isotope for A = 44 and Z = 28 is 5.328 Mev\n",
      "\n",
      "The binding energy of an isotope for A = 45 and Z = 28 is 259.718 Mev\n",
      "The binding energy per A of an isotope for A = 45 and Z = 28 is 5.772 Mev\n",
      "\n",
      "The binding energy of an isotope for A = 46 and Z = 28 is 286.966 Mev\n",
      "The binding energy per A of an isotope for A = 46 and Z = 28 is 6.238 Mev\n",
      "\n",
      "The binding energy of an isotope for A = 47 and Z = 28 is 309.172 Mev\n",
      "The binding energy per A of an isotope for A = 47 and Z = 28 is 6.578 Mev\n",
      "\n",
      "The binding energy of an isotope for A = 48 and Z = 28 is 333.469 Mev\n",
      "The binding energy per A of an isotope for A = 48 and Z = 28 is 6.947 Mev\n",
      "\n",
      "The binding energy of an isotope for A = 49 and Z = 28 is 352.98 Mev\n",
      "The binding energy per A of an isotope for A = 49 and Z = 28 is 7.204 Mev\n",
      "\n",
      "The binding energy of an isotope for A = 50 and Z = 28 is 374.677 Mev\n",
      "The binding energy per A of an isotope for A = 50 and Z = 28 is 7.494 Mev\n",
      "\n",
      "The binding energy of an isotope for A = 51 and Z = 28 is 391.811 Mev\n",
      "The binding energy per A of an isotope for A = 51 and Z = 28 is 7.683 Mev\n",
      "\n",
      "The binding energy of an isotope for A = 52 and Z = 28 is 411.204 Mev\n",
      "The binding energy per A of an isotope for A = 52 and Z = 28 is 7.908 Mev\n",
      "\n",
      "The binding energy of an isotope for A = 53 and Z = 28 is 426.229 Mev\n",
      "The binding energy per A of an isotope for A = 53 and Z = 28 is 8.042 Mev\n",
      "\n",
      "The binding energy of an isotope for A = 54 and Z = 28 is 443.571 Mev\n",
      "The binding energy per A of an isotope for A = 54 and Z = 28 is 8.214 Mev\n",
      "\n",
      "The binding energy of an isotope for A = 55 and Z = 28 is 456.72 Mev\n",
      "The binding energy per A of an isotope for A = 55 and Z = 28 is 8.304 Mev\n",
      "\n",
      "The binding energy of an isotope for A = 56 and Z = 28 is 472.229 Mev\n",
      "The binding energy per A of an isotope for A = 56 and Z = 28 is 8.433 Mev\n",
      "\n",
      "The binding energy of an isotope for A = 57 and Z = 28 is 483.699 Mev\n",
      "The binding energy per A of an isotope for A = 57 and Z = 28 is 8.486 Mev\n",
      "\n",
      "The binding energy of an isotope for A = 58 and Z = 28 is 497.562 Mev\n",
      "The binding energy per A of an isotope for A = 58 and Z = 28 is 8.579 Mev\n",
      "\n",
      "The binding energy of an isotope for A = 59 and Z = 28 is 507.526 Mev\n",
      "The binding energy per A of an isotope for A = 59 and Z = 28 is 8.602 Mev\n",
      "\n",
      "The binding energy of an isotope for A = 60 and Z = 28 is 519.906 Mev\n",
      "The binding energy per A of an isotope for A = 60 and Z = 28 is 8.665 Mev\n",
      "\n",
      "The binding energy of an isotope for A = 61 and Z = 28 is 528.513 Mev\n",
      "The binding energy per A of an isotope for A = 61 and Z = 28 is 8.664 Mev\n",
      "\n",
      "The binding energy of an isotope for A = 62 and Z = 28 is 539.552 Mev\n",
      "The binding energy per A of an isotope for A = 62 and Z = 28 is 8.702 Mev\n",
      "\n",
      "The binding energy of an isotope for A = 63 and Z = 28 is 546.933 Mev\n",
      "The binding energy per A of an isotope for A = 63 and Z = 28 is 8.681 Mev\n",
      "\n",
      "The binding energy of an isotope for A = 64 and Z = 28 is 556.756 Mev\n",
      "The binding energy per A of an isotope for A = 64 and Z = 28 is 8.699 Mev\n",
      "\n",
      "The binding energy of an isotope for A = 65 and Z = 28 is 563.024 Mev\n",
      "The binding energy per A of an isotope for A = 65 and Z = 28 is 8.662 Mev\n",
      "\n",
      "The binding energy of an isotope for A = 66 and Z = 28 is 571.741 Mev\n",
      "The binding energy per A of an isotope for A = 66 and Z = 28 is 8.663 Mev\n",
      "\n",
      "The binding energy of an isotope for A = 67 and Z = 28 is 576.998 Mev\n",
      "The binding energy per A of an isotope for A = 67 and Z = 28 is 8.612 Mev\n",
      "\n",
      "The binding energy of an isotope for A = 68 and Z = 28 is 584.705 Mev\n",
      "The binding energy per A of an isotope for A = 68 and Z = 28 is 8.599 Mev\n",
      "\n",
      "The binding energy of an isotope for A = 69 and Z = 28 is 589.04 Mev\n",
      "The binding energy per A of an isotope for A = 69 and Z = 28 is 8.537 Mev\n",
      "\n",
      "The binding energy of an isotope for A = 70 and Z = 28 is 595.823 Mev\n",
      "The binding energy per A of an isotope for A = 70 and Z = 28 is 8.512 Mev\n",
      "\n",
      "The binding energy of an isotope for A = 71 and Z = 28 is 599.315 Mev\n",
      "The binding energy per A of an isotope for A = 71 and Z = 28 is 8.441 Mev\n",
      "\n",
      "The binding energy of an isotope for A = 72 and Z = 28 is 605.251 Mev\n",
      "The binding energy per A of an isotope for A = 72 and Z = 28 is 8.406 Mev\n",
      "\n",
      "The binding energy of an isotope for A = 73 and Z = 28 is 607.971 Mev\n",
      "The binding energy per A of an isotope for A = 73 and Z = 28 is 8.328 Mev\n",
      "\n",
      "The binding energy of an isotope for A = 74 and Z = 28 is 613.127 Mev\n",
      "The binding energy per A of an isotope for A = 74 and Z = 28 is 8.286 Mev\n",
      "\n",
      "The binding energy of an isotope for A = 75 and Z = 28 is 615.137 Mev\n",
      "The binding energy per A of an isotope for A = 75 and Z = 28 is 8.202 Mev\n",
      "\n",
      "The binding energy of an isotope for A = 76 and Z = 28 is 619.576 Mev\n",
      "The binding energy per A of an isotope for A = 76 and Z = 28 is 8.152 Mev\n",
      "\n",
      "The binding energy of an isotope for A = 77 and Z = 28 is 620.933 Mev\n",
      "The binding energy per A of an isotope for A = 77 and Z = 28 is 8.064 Mev\n",
      "\n",
      "The binding energy of an isotope for A = 78 and Z = 28 is 624.709 Mev\n",
      "The binding energy per A of an isotope for A = 78 and Z = 28 is 8.009 Mev\n",
      "\n",
      "The binding energy of an isotope for A = 79 and Z = 28 is 625.463 Mev\n",
      "The binding energy per A of an isotope for A = 79 and Z = 28 is 7.917 Mev\n",
      "\n",
      "The binding energy of an isotope for A = 80 and Z = 28 is 628.625 Mev\n",
      "The binding energy per A of an isotope for A = 80 and Z = 28 is 7.858 Mev\n",
      "\n",
      "The binding energy of an isotope for A = 81 and Z = 28 is 628.822 Mev\n",
      "The binding energy per A of an isotope for A = 81 and Z = 28 is 7.763 Mev\n",
      "\n",
      "The binding energy of an isotope for A = 82 and Z = 28 is 631.415 Mev\n",
      "The binding energy per A of an isotope for A = 82 and Z = 28 is 7.7 Mev\n",
      "\n",
      "The binding energy of an isotope for A = 83 and Z = 28 is 631.097 Mev\n",
      "The binding energy per A of an isotope for A = 83 and Z = 28 is 7.604 Mev\n",
      "\n",
      "The binding energy of an isotope for A = 84 and Z = 28 is 633.162 Mev\n",
      "The binding energy per A of an isotope for A = 84 and Z = 28 is 7.538 Mev\n",
      "\n"
     ]
    }
   ],
   "source": [
    "#This box of code will calculate the binding energy, and binding energy per nucleon \n",
    "# using atomic number (Z) = 28 and atomic mass number (A) = Z to A = 3*Z\n",
    "\n",
    "atomic_number = 28 # Atomic Mass Number will remain the same for all calculations in this box\n",
    "\n",
    "# This for loop will loop through values of A from A = Z to A = 3*Z\n",
    "for atomic_mass_number in np.arange(atomic_number,3*atomic_number+1):\n",
    "    print(\"The binding energy of an isotope for A =\",atomic_mass_number,\"and Z = 28 is\"\n",
    "          ,round(Binding_Energy(atomic_mass_number,28)[0],3),\"Mev\")\n",
    "    print(\"The binding energy per A of an isotope for A =\",atomic_mass_number,\"and Z = 28 is\"\n",
    "          ,round(Binding_Energy(atomic_mass_number,28)[1],3),\"Mev\")\n",
    "    print()"
   ]
  },
  {
   "cell_type": "markdown",
   "id": "b81b9f1c",
   "metadata": {},
   "source": [
    "## 5c)"
   ]
  },
  {
   "cell_type": "code",
   "execution_count": 11,
   "id": "356e57fc",
   "metadata": {
    "scrolled": false
   },
   "outputs": [
    {
     "name": "stdout",
     "output_type": "stream",
     "text": [
      "The maximum binding energy per nucleon is calculated to be 8.702 Mev for Atomic Mass = 62 and Atomic Number = 28 .\n",
      "These values correspond to the isotope Nickel-62, the most stable isotope in the universe.\n"
     ]
    }
   ],
   "source": [
    "# In this box the maximum binding energy per nucleon will calculated\n",
    "\n",
    "# These are empty lists that will be used to store the values they are named after\n",
    "atomic_mass_number_list = []\n",
    "atomic_number_list = []\n",
    "binding_energy_per_nucleon_list = []\n",
    "\n",
    "# This for loop runs through values Z = 1 to 50 and A = Z to Z*3 for each Z value\n",
    "for Z in np.arange(1,51):\n",
    "    for A in np.arange(Z,3*Z+1):\n",
    "        # These lines append the atomic mass, atomic number, and binding energy per nucleon in the same iteration\n",
    "        # This allows for the values the correspond to eachother to be found in the same index of their respective lists\n",
    "        atomic_mass_number_list.append(A)\n",
    "        atomic_number_list.append(Z)\n",
    "        binding_energy_per_nucleon_list.append(Binding_Energy(A,Z)[1])\n",
    "        \n",
    "# This line will store the index of the maximum binding energy per nucleon in its list\n",
    "# This value is important because it will allow me to find the corresponding atomic mass and number\n",
    "# since those values were also being stored in lists as the for loops ran\n",
    "index_of_max = binding_energy_per_nucleon_list.index(np.max(binding_energy_per_nucleon_list))\n",
    "\n",
    "# Printing the results\n",
    "print(\"The maximum binding energy per nucleon is calculated to be\",round(np.max(binding_energy_per_nucleon_list),3)\n",
    "      ,\"Mev for Atomic Mass =\",atomic_mass_number_list[index_of_max],\"and Atomic Number =\"\n",
    "      ,atomic_number_list[index_of_max],\".\")\n",
    "print(\"These values correspond to the isotope Nickel-62, the most stable isotope in the universe.\")"
   ]
  },
  {
   "cell_type": "markdown",
   "id": "7187a31e",
   "metadata": {},
   "source": [
    "## 6a)"
   ]
  },
  {
   "cell_type": "code",
   "execution_count": 12,
   "id": "9b283ee3",
   "metadata": {},
   "outputs": [
    {
     "name": "stdout",
     "output_type": "stream",
     "text": [
      "[1. 0.]\n",
      "[0.9961947  0.08715574]\n",
      "[0.98480775 0.17364818]\n",
      "[0.96592583 0.25881905]\n",
      "[0.93969262 0.34202014]\n",
      "[0.90630779 0.42261826]\n",
      "[0.8660254 0.5      ]\n",
      "[0.81915204 0.57357644]\n",
      "[0.76604444 0.64278761]\n",
      "[0.70710678 0.70710678]\n",
      "[0.64278761 0.76604444]\n",
      "[0.57357644 0.81915204]\n",
      "[0.5       0.8660254]\n",
      "[0.42261826 0.90630779]\n",
      "[0.34202014 0.93969262]\n",
      "[0.25881905 0.96592583]\n",
      "[0.17364818 0.98480775]\n",
      "[0.08715574 0.9961947 ]\n",
      "[6.123234e-17 1.000000e+00]\n",
      "[-0.08715574  0.9961947 ]\n",
      "[-0.17364818  0.98480775]\n",
      "[-0.25881905  0.96592583]\n",
      "[-0.34202014  0.93969262]\n",
      "[-0.42261826  0.90630779]\n",
      "[-0.5        0.8660254]\n",
      "[-0.57357644  0.81915204]\n",
      "[-0.64278761  0.76604444]\n",
      "[-0.70710678  0.70710678]\n",
      "[-0.76604444  0.64278761]\n",
      "[-0.81915204  0.57357644]\n",
      "[-0.8660254  0.5      ]\n",
      "[-0.90630779  0.42261826]\n",
      "[-0.93969262  0.34202014]\n",
      "[-0.96592583  0.25881905]\n",
      "[-0.98480775  0.17364818]\n",
      "[-0.9961947   0.08715574]\n",
      "[-1.0000000e+00  1.2246468e-16]\n",
      "[-0.9961947  -0.08715574]\n",
      "[-0.98480775 -0.17364818]\n",
      "[-0.96592583 -0.25881905]\n",
      "[-0.93969262 -0.34202014]\n",
      "[-0.90630779 -0.42261826]\n",
      "[-0.8660254 -0.5      ]\n",
      "[-0.81915204 -0.57357644]\n",
      "[-0.76604444 -0.64278761]\n",
      "[-0.70710678 -0.70710678]\n",
      "[-0.64278761 -0.76604444]\n",
      "[-0.57357644 -0.81915204]\n",
      "[-0.5       -0.8660254]\n",
      "[-0.42261826 -0.90630779]\n",
      "[-0.34202014 -0.93969262]\n",
      "[-0.25881905 -0.96592583]\n",
      "[-0.17364818 -0.98480775]\n",
      "[-0.08715574 -0.9961947 ]\n",
      "[-1.8369702e-16 -1.0000000e+00]\n",
      "[ 0.08715574 -0.9961947 ]\n",
      "[ 0.17364818 -0.98480775]\n",
      "[ 0.25881905 -0.96592583]\n",
      "[ 0.34202014 -0.93969262]\n",
      "[ 0.42261826 -0.90630779]\n",
      "[ 0.5       -0.8660254]\n",
      "[ 0.57357644 -0.81915204]\n",
      "[ 0.64278761 -0.76604444]\n",
      "[ 0.70710678 -0.70710678]\n",
      "[ 0.76604444 -0.64278761]\n",
      "[ 0.81915204 -0.57357644]\n",
      "[ 0.8660254 -0.5      ]\n",
      "[ 0.90630779 -0.42261826]\n",
      "[ 0.93969262 -0.34202014]\n",
      "[ 0.96592583 -0.25881905]\n",
      "[ 0.98480775 -0.17364818]\n",
      "[ 0.9961947  -0.08715574]\n",
      "[ 1.0000000e+00 -2.4492936e-16]\n"
     ]
    }
   ],
   "source": [
    "# This box of code loads the 'SampleData1.txt' and prints out all of the rows in the array using a for loop\n",
    "mystery_data = np.loadtxt('SampleData1.txt')\n",
    "\n",
    "# This line give me the shape of the mystery data array in terms of (# of row, # of columns) \n",
    "array_shape = np.shape(mystery_data)\n",
    "\n",
    "# This line prints out each row of the array seperately\n",
    "for i in np.arange(0,array_shape[0]):\n",
    "    print(mystery_data[i])"
   ]
  },
  {
   "cell_type": "markdown",
   "id": "35e7fe2a",
   "metadata": {},
   "source": [
    "## 6b)\n",
    "\n",
    "### Based on the results from part 6a, the data appears to be the x and y coordinates of the unit circle, with the x values in the 0th column of the array and the y values in the 1st column.\n",
    "\n",
    "### To prove this, the following code will convert the Cartesian coordinates to Polar coordinates and print out the array of these converted values for each row."
   ]
  },
  {
   "cell_type": "code",
   "execution_count": 42,
   "id": "6fe1ab57",
   "metadata": {},
   "outputs": [
    {
     "name": "stdout",
     "output_type": "stream",
     "text": [
      "[[  1.   0.]\n",
      " [  1.   5.]\n",
      " [  1.  10.]\n",
      " [  1.  15.]\n",
      " [  1.  20.]\n",
      " [  1.  25.]\n",
      " [  1.  30.]\n",
      " [  1.  35.]\n",
      " [  1.  40.]\n",
      " [  1.  45.]\n",
      " [  1.  50.]\n",
      " [  1.  55.]\n",
      " [  1.  60.]\n",
      " [  1.  65.]\n",
      " [  1.  70.]\n",
      " [  1.  75.]\n",
      " [  1.  80.]\n",
      " [  1.  85.]\n",
      " [  1.  90.]\n",
      " [  1.  95.]\n",
      " [  1. 100.]\n",
      " [  1. 105.]\n",
      " [  1. 110.]\n",
      " [  1. 115.]\n",
      " [  1. 120.]\n",
      " [  1. 125.]\n",
      " [  1. 130.]\n",
      " [  1. 135.]\n",
      " [  1. 140.]\n",
      " [  1. 145.]\n",
      " [  1. 150.]\n",
      " [  1. 155.]\n",
      " [  1. 160.]\n",
      " [  1. 165.]\n",
      " [  1. 170.]\n",
      " [  1. 175.]\n",
      " [  1. 180.]\n",
      " [  1. 185.]\n",
      " [  1. 190.]\n",
      " [  1. 195.]\n",
      " [  1. 200.]\n",
      " [  1. 205.]\n",
      " [  1. 210.]\n",
      " [  1. 215.]\n",
      " [  1. 220.]\n",
      " [  1. 225.]\n",
      " [  1. 230.]\n",
      " [  1. 235.]\n",
      " [  1. 240.]\n",
      " [  1. 245.]\n",
      " [  1. 250.]\n",
      " [  1. 255.]\n",
      " [  1. 260.]\n",
      " [  1. 265.]\n",
      " [  1. 270.]\n",
      " [  1. 275.]\n",
      " [  1. 280.]\n",
      " [  1. 285.]\n",
      " [  1. 290.]\n",
      " [  1. 295.]\n",
      " [  1. 300.]\n",
      " [  1. 305.]\n",
      " [  1. 310.]\n",
      " [  1. 315.]\n",
      " [  1. 320.]\n",
      " [  1. 325.]\n",
      " [  1. 330.]\n",
      " [  1. 335.]\n",
      " [  1. 340.]\n",
      " [  1. 345.]\n",
      " [  1. 350.]\n",
      " [  1. 355.]\n",
      " [  1. 360.]]\n"
     ]
    }
   ],
   "source": [
    "# This box of code will call the Cartesian_to_Polar_Coords function to convert the mystery data coords to polar\n",
    "\n",
    "# The line creates an empty array to store the convert values, with the shape of the original data array\n",
    "polar_myster_data = np.empty(array_shape)\n",
    "\n",
    "# This for loop will run through the rows of the original array and convert the cartesian to polar coords\n",
    "# then store the results in the empty array\n",
    "for i in np.arange(0,array_shape[0]):\n",
    "    polar_myster_data[i] = Cartesian_to_Polar_Coords(mystery_data[i,0],mystery_data[i,1])\n",
    "    \n",
    "# This line prints out the results\n",
    "print(polar_myster_data)"
   ]
  },
  {
   "cell_type": "markdown",
   "id": "c90d2273",
   "metadata": {},
   "source": [
    "## As can be seen in the converted mystery data values, the 0th column now represents the radius of the unit circle which is always 1. The 1st column represents the angle counterclockwise from the positive x-axis as you move along the edge of the circle. The angle runs from 0 to 360 degrees as expected."
   ]
  }
 ],
 "metadata": {
  "kernelspec": {
   "display_name": "Python 3 (ipykernel)",
   "language": "python",
   "name": "python3"
  },
  "language_info": {
   "codemirror_mode": {
    "name": "ipython",
    "version": 3
   },
   "file_extension": ".py",
   "mimetype": "text/x-python",
   "name": "python",
   "nbconvert_exporter": "python",
   "pygments_lexer": "ipython3",
   "version": "3.9.13"
  }
 },
 "nbformat": 4,
 "nbformat_minor": 5
}
